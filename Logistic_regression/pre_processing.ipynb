{
 "cells": [
  {
   "cell_type": "code",
   "execution_count": 22,
   "id": "3bf80233",
   "metadata": {},
   "outputs": [],
   "source": [
    "import re\n",
    "import string\n",
    "import nltk\n",
    "from nltk.corpus import stopwords\n",
    "from nltk.stem import PorterStemmer\n",
    "from nltk.tokenize import TweetTokenizer\n",
    "def process_tweets(tweet):\n",
    "    tweet = re.sub(r'\\$\\w*', '', tweet)\n",
    "    tweet = re.sub(r'^RT[\\s]+', '', tweet)\n",
    "    tweet = re.sub(r'https?://[^\\s\\n\\r]+','',tweet)\n",
    "    tweet = re.sub(r'#','', tweet)\n",
    "\n",
    "    tokenizer = TweetTokenizer(preserve_case=False, strip_handles=True, reduce_len=True)\n",
    "    tweet_tokens = tokenizer.tokenize(tweet)\n",
    "    \n",
    "    stopwords_english = stopwords.words('english')\n",
    "    punctuations = string.punctuation\n",
    "    \n",
    "    stemmer = PorterStemmer()\n",
    "    processed_tweet = []\n",
    "    for token in tweet_tokens:\n",
    "        if(token not in stopwords_english and token not in punctuations):\n",
    "            processed_tweet.append(stemmer.stem(token))\n",
    "    return processed_tweet"
   ]
  },
  {
   "cell_type": "code",
   "execution_count": 23,
   "id": "7f68e987",
   "metadata": {},
   "outputs": [],
   "source": [
    "from nltk.corpus import twitter_samples\n",
    "def generate_tweets():\n",
    "    nltk.download('twitter_samples')\n",
    "    all_positive_tweets = twitter_samples.strings('positive_tweets.json')\n",
    "    all_negative_tweets = twitter_samples.strings('negative_tweets.json')\n",
    "    return all_positive_tweets, all_negative_tweets"
   ]
  }
 ],
 "metadata": {
  "kernelspec": {
   "display_name": "Python 3 (ipykernel)",
   "language": "python",
   "name": "python3"
  },
  "language_info": {
   "codemirror_mode": {
    "name": "ipython",
    "version": 3
   },
   "file_extension": ".py",
   "mimetype": "text/x-python",
   "name": "python",
   "nbconvert_exporter": "python",
   "pygments_lexer": "ipython3",
   "version": "3.9.12"
  }
 },
 "nbformat": 4,
 "nbformat_minor": 5
}
