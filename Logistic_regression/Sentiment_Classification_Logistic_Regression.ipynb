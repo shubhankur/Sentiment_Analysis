{
 "cells": [
  {
   "cell_type": "code",
   "execution_count": 7,
   "id": "3e1653fc",
   "metadata": {},
   "outputs": [],
   "source": [
    "import pre_processing as pp\n",
    "import word_frequencies as wf\n",
    "import numpy as np"
   ]
  },
  {
   "cell_type": "code",
   "execution_count": 3,
   "id": "d63941fc",
   "metadata": {},
   "outputs": [
    {
     "name": "stderr",
     "output_type": "stream",
     "text": [
      "[nltk_data] Downloading package twitter_samples to\n",
      "[nltk_data]     /Users/shubhankarkumar/nltk_data...\n",
      "[nltk_data]   Package twitter_samples is already up-to-date!\n"
     ]
    }
   ],
   "source": [
    "pos_tweets, neg_tweets = pp.generate_tweets()"
   ]
  },
  {
   "cell_type": "code",
   "execution_count": 11,
   "id": "b8bdbfd1",
   "metadata": {},
   "outputs": [],
   "source": [
    "train_x = pos_tweets[:4000]\n",
    "test_x = pos_tweets[4000:]\n",
    "train_y = neg_tweets[:4000]\n",
    "test_y = neg_tweets[4000:]"
   ]
  },
  {
   "cell_type": "code",
   "execution_count": 12,
   "id": "f572411e",
   "metadata": {},
   "outputs": [
    {
     "name": "stdout",
     "output_type": "stream",
     "text": [
      "(4000,)\n",
      "(1000,)\n",
      "(4000,)\n",
      "(1000,)\n"
     ]
    }
   ],
   "source": [
    "print(np.shape(train_x))\n",
    "print(np.shape(test_x))\n",
    "print(np.shape(train_y))\n",
    "print(np.shape(test_y))"
   ]
  },
  {
   "cell_type": "code",
   "execution_count": null,
   "id": "652abab8",
   "metadata": {},
   "outputs": [],
   "source": [
    "freqs"
   ]
  }
 ],
 "metadata": {
  "kernelspec": {
   "display_name": "Python 3 (ipykernel)",
   "language": "python",
   "name": "python3"
  },
  "language_info": {
   "codemirror_mode": {
    "name": "ipython",
    "version": 3
   },
   "file_extension": ".py",
   "mimetype": "text/x-python",
   "name": "python",
   "nbconvert_exporter": "python",
   "pygments_lexer": "ipython3",
   "version": "3.9.12"
  }
 },
 "nbformat": 4,
 "nbformat_minor": 5
}
