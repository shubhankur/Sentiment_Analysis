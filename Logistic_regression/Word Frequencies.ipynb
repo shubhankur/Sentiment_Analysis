{
 "cells": [
  {
   "cell_type": "code",
   "execution_count": 23,
   "id": "695307e4",
   "metadata": {},
   "outputs": [],
   "source": [
    "import pre_processing\n",
    "import numpy as np"
   ]
  },
  {
   "cell_type": "code",
   "execution_count": 24,
   "id": "6d52012a",
   "metadata": {},
   "outputs": [],
   "source": [
    "def get_freq_table(tweets, labels):\n",
    "    labels = np.squeeze(labels).tolist()\n",
    "    freq = {}\n",
    "    for tweet, label in zip(tweets, labels):\n",
    "        for token in pre_processing.process_tweets(tweet):\n",
    "            pair = (token, label)\n",
    "            if pair in freq:\n",
    "                freq[pair]+=1\n",
    "            else:\n",
    "                freq[pair]=1\n",
    "    return freq"
   ]
  },
  {
   "cell_type": "code",
   "execution_count": 25,
   "id": "579e3598",
   "metadata": {},
   "outputs": [],
   "source": [
    "def get_freq_table_for_a_tweet(tweet ,freq):\n",
    "    data = []\n",
    "    for token in tweet:\n",
    "        pos = 0\n",
    "        neg = 0\n",
    "        if (token,1) in freq:\n",
    "            pos = freq[(token,1)]\n",
    "        if (token,0) in freq:\n",
    "            neg = freq[(token,0)]\n",
    "        data.append([token, pos, neg])\n",
    "    return data"
   ]
  },
  {
   "cell_type": "code",
   "execution_count": 26,
   "id": "4dd0704d",
   "metadata": {},
   "outputs": [],
   "source": [
    "import matplotlib.pyplot as plt\n",
    "def show_plot(data):\n",
    "    fig, ax = plt.subplots(figsize = (8, 8))\n",
    "\n",
    "    # convert positive raw counts to logarithmic scale. we add 1 to avoid log(0)\n",
    "    x = np.log([x[1] + 1 for x in data])  \n",
    "\n",
    "    # do the same for the negative counts\n",
    "    y = np.log([x[2] + 1 for x in data]) \n",
    "\n",
    "    # Plot a dot for each pair of words\n",
    "    ax.scatter(x, y)  \n",
    "\n",
    "    # assign axis labels\n",
    "    plt.xlabel(\"Log Positive count\")\n",
    "    plt.ylabel(\"Log Negative count\")\n",
    "\n",
    "    # Add the word as the label at the same position as you added the points just before\n",
    "    for i in range(0, len(data)):\n",
    "        ax.annotate(data[i][0], (x[i], y[i]), fontsize=12)\n",
    "\n",
    "    ax.plot([0, 9], [0, 9], color = 'red') # Plot the red line that divides the 2 areas.\n",
    "    plt.show()"
   ]
  },
  {
   "cell_type": "code",
   "execution_count": null,
   "id": "ccf6ee50",
   "metadata": {},
   "outputs": [],
   "source": []
  }
 ],
 "metadata": {
  "kernelspec": {
   "display_name": "Python 3 (ipykernel)",
   "language": "python",
   "name": "python3"
  },
  "language_info": {
   "codemirror_mode": {
    "name": "ipython",
    "version": 3
   },
   "file_extension": ".py",
   "mimetype": "text/x-python",
   "name": "python",
   "nbconvert_exporter": "python",
   "pygments_lexer": "ipython3",
   "version": "3.9.12"
  }
 },
 "nbformat": 4,
 "nbformat_minor": 5
}
